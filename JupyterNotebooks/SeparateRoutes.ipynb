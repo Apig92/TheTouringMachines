{
 "cells": [
  {
   "cell_type": "markdown",
   "metadata": {},
   "source": [
    "# Separate all the routes in individual CSV files\n",
    "\n",
    "This works for any number of files in the folder. I used the sample data from november, but it can be used for all the files we have access to."
   ]
  },
  {
   "cell_type": "code",
   "execution_count": null,
   "metadata": {
    "collapsed": true
   },
   "outputs": [],
   "source": [
    "import pandas as pd\n",
    "import csv\n",
    "import numpy as np\n",
    "import glob\n",
    "import time\n",
    "import numpy\n",
    "import matplotlib.pyplot as plt\n",
    "%matplotlib inline"
   ]
  },
  {
   "cell_type": "markdown",
   "metadata": {},
   "source": [
    "# THIS TAKES A COUPLE OF HOURS!"
   ]
  },
  {
   "cell_type": "code",
   "execution_count": null,
   "metadata": {
    "collapsed": true
   },
   "outputs": [],
   "source": [
    "#This is the path where the CSVs are: do not put anything else in here, as the program loads all the content.\n",
    "path =r'C:\\Users\\pigna\\OneDrive\\Notes\\Research Practicum\\stuff'      #CHANGE ME\n",
    "\n",
    "#This is the path where you want to save the new CSVs: change it to whatever you want\n",
    "path2=\"C:\\\\Users\\\\pigna\\\\OneDrive\\\\Notes\\\\Research Practicum\\\\LineCSV3\\\\\"   #CHANGE ME\n",
    "allFiles = glob.glob(path + \"/*.csv\")\n",
    "\n",
    "#get lines by reading one of the CSVs\n",
    "df = pd.read_csv(path+\"\\\\siri.20121106.csv\",index_col=None, header=0)  #Use whatever file you wish\n",
    "df.columns=[\"Timestamp\",\"LineId\",\"Direction\",\"JourneyPattern\",\"Timeframe\",\"VehicleJourney\",\"Operator\",\"Congestion\",\"Longitude\",\"Latitude\",\"Delay\",\"BlockId\",\"VehicleId\",\"StopId\",\"AtStop\"]\n",
    "\n",
    "#Save the lines in an array\n",
    "lines=df['LineId'].unique()\n",
    "lines = lines[~pd.isnull(lines)]\n",
    "\n",
    "#This creates a new CSV for each route\n",
    "\n",
    "for line in lines:\n",
    "    frame = pd.DataFrame()\n",
    "    list_ = []\n",
    "    print(\"Creating Route:\", line)\n",
    "    for file_ in allFiles:\n",
    "        df = pd.read_csv(file_,index_col=None, header=0)\n",
    "        df.columns=[\"Timestamp\",\"LineId\",\"Direction\",\"JourneyPattern\",\"Timeframe\",\"VehicleJourney\",\"Operator\",\"Congestion\",\"Longitude\",\"Latitude\",\"Delay\",\"BlockId\",\"VehicleId\",\"StopId\",\"AtStop\"]\n",
    "        df1 = df[df['LineId']== line]\n",
    "        list_.append(df1)\n",
    "    frame = pd.concat(list_)\n",
    "    frame = frame.reset_index(drop=True)\n",
    "    frame['Date'] = pd.to_datetime(frame['Timestamp'], unit='us')\n",
    "    frame.to_csv(path2+'route'+str(line)+'.csv', index=False)"
   ]
  },
  {
   "cell_type": "markdown",
   "metadata": {},
   "source": [
    "# Get rid of all the bus data between 1 a.m. and 6 a.m."
   ]
  },
  {
   "cell_type": "code",
   "execution_count": null,
   "metadata": {
    "collapsed": true
   },
   "outputs": [],
   "source": [
    "#You should have a folder with all the lines created in the previous part, nothing else should be in the folder\n",
    "path =r'C:\\Users\\pigna\\OneDrive\\Notes\\Research Practicum\\ALLROUTES' #CHANGE ME\n",
    "allFiles = glob.glob(path + \"/*.csv\")\n",
    "\n",
    "\n",
    "#Remove all busses between 1 a.m. and 6 a.m. and creates a new cleaned up csv\n",
    "\n",
    "for file_ in allFiles:\n",
    "    df = pd.read_csv(file_,index_col=None, header=0)\n",
    "    df['Date'] = pd.to_datetime(df['Timestamp'], unit='us')\n",
    "    daytime = df[(df.Date.dt.hour != 1) &(df.Date.dt.hour !=2) & (df.Date.dt.hour !=3) &(df.Date.dt.hour !=4) & (df.Date.dt.hour !=5)  ]\n",
    "    daytime.to_csv(file_+'CLEAN.csv', index=False)\n",
    "\n",
    "    \n"
   ]
  }
 ],
 "metadata": {
  "anaconda-cloud": {},
  "kernelspec": {
   "display_name": "Python [conda root]",
   "language": "python",
   "name": "conda-root-py"
  },
  "language_info": {
   "codemirror_mode": {
    "name": "ipython",
    "version": 3
   },
   "file_extension": ".py",
   "mimetype": "text/x-python",
   "name": "python",
   "nbconvert_exporter": "python",
   "pygments_lexer": "ipython3",
   "version": "3.5.2"
  }
 },
 "nbformat": 4,
 "nbformat_minor": 1
}
