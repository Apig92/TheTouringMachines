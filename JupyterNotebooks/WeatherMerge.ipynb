{
 "cells": [
  {
   "cell_type": "code",
   "execution_count": null,
   "metadata": {
    "collapsed": true
   },
   "outputs": [],
   "source": [
    "import pandas as pd\n",
    "import csv\n",
    "import numpy as np\n",
    "import glob\n",
    "import time\n",
    "import numpy\n",
    "import matplotlib.pyplot as plt\n",
    "%matplotlib inline"
   ]
  },
  {
   "cell_type": "markdown",
   "metadata": {},
   "source": [
    "This works for one file, but it can be easily automated to all the files in a folder. Feel free to adapt it as you please."
   ]
  },
  {
   "cell_type": "markdown",
   "metadata": {},
   "source": [
    "# Clean the weather csv (skip if you already have it)\n"
   ]
  },
  {
   "cell_type": "code",
   "execution_count": null,
   "metadata": {
    "collapsed": true
   },
   "outputs": [],
   "source": [
    "#read original weather csv (change the directory)\n",
    "weather= pd.read_csv('C:\\\\Users\\\\pigna\\\\OneDrive\\\\Notes\\\\Research_Practicum\\\\DCC_DublinBusGPSSample_P20130415-0916\\\\weather.csv')"
   ]
  },
  {
   "cell_type": "code",
   "execution_count": null,
   "metadata": {
    "collapsed": true
   },
   "outputs": [],
   "source": [
    "#drop first row\n",
    "weather=weather.drop(weather.index[0])\n"
   ]
  },
  {
   "cell_type": "code",
   "execution_count": null,
   "metadata": {
    "collapsed": true
   },
   "outputs": [],
   "source": [
    "#drop the rest of the rows that don't have the right format\n",
    "weather=weather.drop(weather.index[25:51])\n"
   ]
  },
  {
   "cell_type": "code",
   "execution_count": null,
   "metadata": {
    "collapsed": true
   },
   "outputs": [],
   "source": [
    "#create the csv for the new cleaned weather info\n",
    "weather.to_csv('weatherCLEAN.csv', index=False)"
   ]
  },
  {
   "cell_type": "markdown",
   "metadata": {},
   "source": [
    "# Merge weather and bus info"
   ]
  },
  {
   "cell_type": "code",
   "execution_count": null,
   "metadata": {
    "collapsed": true
   },
   "outputs": [],
   "source": [
    "# read the clean weather file, it's on the drive or use the code here (I got rid of all the empty lines and such)\n",
    "\n",
    "weather= pd.read_csv('C:\\\\Users\\\\pigna\\\\OneDrive\\\\Notes\\\\Research_Practicum\\\\DCC_DublinBusGPSSample_P20130415-0916\\\\weatherCLEAN.csv')"
   ]
  },
  {
   "cell_type": "code",
   "execution_count": null,
   "metadata": {
    "collapsed": true
   },
   "outputs": [],
   "source": [
    "#change datatype to datetime\n",
    "weather['date']=weather['date'].astype('datetime64[ns]')\n"
   ]
  },
  {
   "cell_type": "code",
   "execution_count": null,
   "metadata": {
    "collapsed": true
   },
   "outputs": [],
   "source": [
    "#read any bus line\n",
    "bus= pd.read_csv('C:\\\\Users\\\\pigna\\\\OneDrive\\\\Notes\\\\Research_Practicum\\\\ALLROUTES\\\\route40.csvCLEAN.csv') #change directory "
   ]
  },
  {
   "cell_type": "code",
   "execution_count": null,
   "metadata": {
    "collapsed": true
   },
   "outputs": [],
   "source": [
    "#change name of timeframe column to facilitate the merge\n",
    "bus = bus.rename(columns={'Timeframe': 'date'})"
   ]
  },
  {
   "cell_type": "code",
   "execution_count": null,
   "metadata": {
    "collapsed": true
   },
   "outputs": [],
   "source": [
    "#change datatype to datetime\n",
    "bus['date']=bus['date'].astype('datetime64[ns]')\n"
   ]
  },
  {
   "cell_type": "code",
   "execution_count": null,
   "metadata": {
    "collapsed": true
   },
   "outputs": [],
   "source": [
    "#merge in new dataframe\n",
    "new_df = pd.merge(bus, weather,  how='left', left_on=['date'], right_on = ['date'])\n"
   ]
  },
  {
   "cell_type": "code",
   "execution_count": null,
   "metadata": {
    "collapsed": true
   },
   "outputs": [],
   "source": [
    "#dataframe to csv\n",
    "new_df.to_csv('merge.csv', index=False)"
   ]
  }
 ],
 "metadata": {
  "anaconda-cloud": {},
  "kernelspec": {
   "display_name": "Python [conda root]",
   "language": "python",
   "name": "conda-root-py"
  },
  "language_info": {
   "codemirror_mode": {
    "name": "ipython",
    "version": 3
   },
   "file_extension": ".py",
   "mimetype": "text/x-python",
   "name": "python",
   "nbconvert_exporter": "python",
   "pygments_lexer": "ipython3",
   "version": "3.5.2"
  }
 },
 "nbformat": 4,
 "nbformat_minor": 1
}
